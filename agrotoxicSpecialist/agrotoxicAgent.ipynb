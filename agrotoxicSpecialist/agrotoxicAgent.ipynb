{
 "cells": [
  {
   "cell_type": "markdown",
   "id": "d006b2ea-9dfe-49c7-88a9-a5a0775185fd",
   "metadata": {},
   "source": [
    "# Pesticide Informativ on Coffe Culture in Brazil"
   ]
  },
  {
   "cell_type": "code",
   "execution_count": 60,
   "id": "a07e7793-b8f5-44f4-aded-5562f633271a",
   "metadata": {},
   "outputs": [],
   "source": [
    "# imports\n",
    "\n",
    "import os\n",
    "from dotenv import load_dotenv\n",
    "from openai import OpenAI\n",
    "import gradio as gr\n",
    "import csv\n",
    "import json"
   ]
  },
  {
   "cell_type": "code",
   "execution_count": 61,
   "id": "51889b46-6017-4377-8b05-939d69b7ad78",
   "metadata": {},
   "outputs": [
    {
     "name": "stdout",
     "output_type": "stream",
     "text": [
      "OpenAI API Key exists and begins sk-proj-\n"
     ]
    }
   ],
   "source": [
    "# Load environment variables in a file called .env\n",
    "# Print the key prefixes to help with any debugging\n",
    "\n",
    "load_dotenv()\n",
    "openai_api_key = os.getenv('OPENAI_API_KEY')\n",
    "\n",
    "\n",
    "if openai_api_key:\n",
    "    print(f\"OpenAI API Key exists and begins {openai_api_key[:8]}\")\n",
    "else:\n",
    "    print(\"OpenAI API Key not set\")\n",
    "    "
   ]
  },
  {
   "cell_type": "code",
   "execution_count": 62,
   "id": "eb942a5b-61b1-4684-9de0-8644e426f835",
   "metadata": {},
   "outputs": [],
   "source": [
    "# Initialize\n",
    "\n",
    "openai = OpenAI()\n",
    "MODEL = 'gpt-4o-mini'"
   ]
  },
  {
   "cell_type": "code",
   "execution_count": 63,
   "id": "5ea461c0-5e91-4456-820e-244f4aa97343",
   "metadata": {},
   "outputs": [],
   "source": [
    "system_message = \"You should work, mainly, with the tool passed to you\"\n",
    "system_message += \"It is a tool based on the pesticides used in coffe harvest in Sao Paulo, Brazil\"\n",
    "system_message += \"When you found the tool data, you should reply about all the pesticides and their damage\"\n"
   ]
  },
  {
   "cell_type": "code",
   "execution_count": 64,
   "id": "deb3110b-10a6-4cf8-835f-de8a54ca6113",
   "metadata": {},
   "outputs": [],
   "source": [
    "# Load pesticide data from a CSV file\n",
    "def load_pesticide_data(file_name):\n",
    "    pesticide_data = {}\n",
    "    try:\n",
    "        with open(file_name, mode='r', encoding='utf-8') as file:\n",
    "            reader = csv.reader(file)\n",
    "            # Assuming the CSV has columns: Year, Food (English), State, Pesticide, Environmental Impact\n",
    "            next(reader)  # Skip the header row\n",
    "            for row in reader:\n",
    "                if len(row) >= 5:\n",
    "                    pesticide = row[3].strip().lower()  # Use Pesticide as the key\n",
    "                    environmental_impact = row[4].strip()\n",
    "                    pesticide_data[pesticide] = environmental_impact\n",
    "    except FileNotFoundError:\n",
    "        print(f\"Error: The file '{file_name}' was not found.\")\n",
    "    except Exception as e:\n",
    "        print(f\"An error occurred: {e}\")\n",
    "    return pesticide_data"
   ]
  },
  {
   "cell_type": "code",
   "execution_count": 65,
   "id": "d944f4e2-27c6-4b4f-85bb-be161be5b14e",
   "metadata": {},
   "outputs": [],
   "source": [
    "\n",
    "# Initialize pesticide data by reading the CSV\n",
    "pesticide_data = load_pesticide_data(\"coffePesticide.csv\")"
   ]
  },
  {
   "cell_type": "code",
   "execution_count": 66,
   "id": "597b7d0b-f14c-45cd-8273-bb8cd411b7d5",
   "metadata": {},
   "outputs": [],
   "source": [
    "\n",
    "\n",
    "\n",
    "# Function to get environmental impact of a pesticide\n",
    "def get_environmental_impact(pesticide_name):\n",
    "    print(f\"Tool get_environmental_impact called for {pesticide_name}\")\n",
    "    pesticide = pesticide_name.lower()\n",
    "    return pesticide_data.get(pesticide, \"Unknown\")\n",
    "\n",
    "# Define the function structure for tools\n",
    "impact_function = {\n",
    "    \"name\": \"get_environmental_impact\",\n",
    "    \"description\": \"Get the environmental impact of a pesticide. Call this whenever you need to know if a pesticide is hazardous, very hazardous, or has another impact level.\",\n",
    "    \"parameters\": {\n",
    "        \"type\": \"object\",\n",
    "        \"properties\": {\n",
    "            \"pesticide_name\": {\n",
    "                \"type\": \"string\",\n",
    "                \"description\": \"The name of the pesticide\\ to look up.\",\n",
    "            },\n",
    "        },\n",
    "        \"required\": [\"pesticide_name\"],\n",
    "        \"additionalProperties\": False\n",
    "    }\n",
    "}\n",
    "\n",
    "# List of tools\n",
    "tools = [{\"type\": \"function\", \"function\": impact_function}]\n",
    "\n"
   ]
  },
  {
   "cell_type": "code",
   "execution_count": 67,
   "id": "f7b4fda7-3695-4b0e-b8d4-7fc9f2169bbd",
   "metadata": {},
   "outputs": [
    {
     "name": "stdout",
     "output_type": "stream",
     "text": [
      "Tool get_environmental_impact called for GLIFOSATO\n",
      "Hazardous\n"
     ]
    }
   ],
   "source": [
    "# Example call\n",
    "print(get_environmental_impact(\"GLIFOSATO\"))"
   ]
  },
  {
   "cell_type": "code",
   "execution_count": 68,
   "id": "d993ef96-1421-4962-b015-fb11f0e41c48",
   "metadata": {},
   "outputs": [
    {
     "name": "stdout",
     "output_type": "stream",
     "text": [
      "[{'type': 'function', 'function': {'name': 'get_environmental_impact', 'description': 'Get the environmental impact of a pesticide. Call this whenever you need to know if a pesticide is hazardous, very hazardous, or has another impact level.', 'parameters': {'type': 'object', 'properties': {'pesticide_name': {'type': 'string', 'description': 'The name of the pesticide\\\\ to look up.'}}, 'required': ['pesticide_name'], 'additionalProperties': False}}}]\n"
     ]
    }
   ],
   "source": [
    "# Include the function in the list of tools\n",
    "tools = [{\"type\": \"function\", \"function\": impact_function}]  # External data provided to OpenAI\n",
    "\n",
    "# Example: Check the tools list\n",
    "print(tools)"
   ]
  },
  {
   "cell_type": "code",
   "execution_count": 75,
   "id": "42d5b8b0-840d-48a0-b5c0-71cacc9de613",
   "metadata": {},
   "outputs": [
    {
     "name": "stdout",
     "output_type": "stream",
     "text": [
      "* Running on local URL:  http://127.0.0.1:7886\n",
      "\n",
      "To create a public link, set `share=True` in `launch()`.\n"
     ]
    },
    {
     "data": {
      "text/html": [
       "<div><iframe src=\"http://127.0.0.1:7886/\" width=\"100%\" height=\"500\" allow=\"autoplay; camera; microphone; clipboard-read; clipboard-write;\" frameborder=\"0\" allowfullscreen></iframe></div>"
      ],
      "text/plain": [
       "<IPython.core.display.HTML object>"
      ]
     },
     "metadata": {},
     "output_type": "display_data"
    },
    {
     "data": {
      "text/plain": []
     },
     "execution_count": 75,
     "metadata": {},
     "output_type": "execute_result"
    },
    {
     "name": "stdout",
     "output_type": "stream",
     "text": [
      "🔧 Tool call detected! Processing tool request...\n",
      "Tool get_environmental_impact called for Paraquat\n",
      "🔧 Tool call detected! Processing tool request...\n",
      "Tool get_environmental_impact called for fosfina\n",
      "✨ No tool call needed - streaming direct response\n",
      "✨ No tool call needed - streaming direct response\n"
     ]
    }
   ],
   "source": [
    "def chat(message, history):\n",
    "    messages = [{\"role\": \"system\", \"content\": system_message}]\n",
    "    messages.extend(history)\n",
    "    messages.append({\"role\": \"user\", \"content\": message})\n",
    "    \n",
    "    try:\n",
    "        # First check if we need to make a tool call\n",
    "        response = openai.chat.completions.create(\n",
    "            model=MODEL,\n",
    "            messages=messages,\n",
    "            tools=tools\n",
    "        )\n",
    "        \n",
    "        if response.choices[0].finish_reason == \"tool_calls\":\n",
    "            print(\"🔧 Tool call detected! Processing tool request...\")\n",
    "            tool_message = response.choices[0].message\n",
    "            tool_response, pesticide_name = handle_tool_call(tool_message)\n",
    "            \n",
    "            # Append tool call messages\n",
    "            messages.extend([\n",
    "                {\"role\": \"assistant\", \"content\": None, \"tool_calls\": tool_message.tool_calls},\n",
    "                tool_response\n",
    "            ])\n",
    "            \n",
    "            # Stream the final response with tool results\n",
    "            stream = openai.chat.completions.create(\n",
    "                model=MODEL,\n",
    "                messages=messages,\n",
    "                stream=True\n",
    "            )\n",
    "            \n",
    "            partial_message = \"\"\n",
    "            for chunk in stream:\n",
    "                if chunk.choices[0].delta.content is not None:\n",
    "                    partial_message += chunk.choices[0].delta.content\n",
    "                    yield partial_message\n",
    "                    \n",
    "        else:\n",
    "            print(\"✨ No tool call needed - streaming direct response\")\n",
    "            # Stream the direct response\n",
    "            stream = openai.chat.completions.create(\n",
    "                model=MODEL,\n",
    "                messages=messages,\n",
    "                stream=True\n",
    "            )\n",
    "            \n",
    "            partial_message = \"\"\n",
    "            for chunk in stream:\n",
    "                if chunk.choices[0].delta.content is not None:\n",
    "                    partial_message += chunk.choices[0].delta.content\n",
    "                    yield partial_message\n",
    "                    \n",
    "    except Exception as e:\n",
    "        print(f\"Error in chat function: {str(e)}\")\n",
    "        yield f\"An error occurred: {str(e)}\"\n",
    "\n",
    "interface = gr.ChatInterface(\n",
    "    fn=chat,\n",
    "    chatbot=gr.Chatbot(\n",
    "        height=300, \n",
    "        type=\"messages\",\n",
    "        bubble_full_width=False,\n",
    "        show_label=False,\n",
    "        render_markdown=True\n",
    "    ),\n",
    "    textbox=gr.Textbox(\n",
    "        placeholder=\"Ask about pesticides...\", \n",
    "        container=False,\n",
    "        scale=7\n",
    "    ),\n",
    "    title=\"Pesticide Environmental Impact Assistant\",\n",
    "    description=\"Ask about the environmental impact of pesticides used in São Paulo coffee harvesting.\",\n",
    "    type=\"messages\",\n",
    "    examples=[\n",
    "        \"What is the environmental impact of GLIFOSATO?\",\n",
    "        \"Tell me about the most hazardous pesticides used in coffee farming.\"\n",
    "    ]\n",
    ")\n",
    "\n",
    "# Launch the interface\n",
    "interface.launch()"
   ]
  }
 ],
 "metadata": {
  "kernelspec": {
   "display_name": "Python 3 (ipykernel)",
   "language": "python",
   "name": "python3"
  },
  "language_info": {
   "codemirror_mode": {
    "name": "ipython",
    "version": 3
   },
   "file_extension": ".py",
   "mimetype": "text/x-python",
   "name": "python",
   "nbconvert_exporter": "python",
   "pygments_lexer": "ipython3",
   "version": "3.11.11"
  }
 },
 "nbformat": 4,
 "nbformat_minor": 5
}
